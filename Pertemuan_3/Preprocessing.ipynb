{
 "cells": [
  {
   "cell_type": "code",
   "execution_count": 1,
   "id": "09da2bdd-af08-4c4e-9117-98b3ffaf213e",
   "metadata": {},
   "outputs": [],
   "source": [
    "import numpy as np\n",
    "import matplotlib.pyplot as plt\n",
    "import pandas as pd"
   ]
  },
  {
   "cell_type": "code",
   "execution_count": 2,
   "id": "b6dd7c54-d008-4fc3-9093-98fa3c9cf26f",
   "metadata": {},
   "outputs": [],
   "source": [
    "dataset = pd.read_csv('Data_Salary.csv')\n",
    "X = dataset.iloc[:, :-1].values\n",
    "y = dataset.iloc[:, -1].values"
   ]
  },
  {
   "cell_type": "code",
   "execution_count": 3,
   "id": "e48425e5-e8c2-4406-b5b0-16d3a3faa8f0",
   "metadata": {},
   "outputs": [
    {
     "name": "stdout",
     "output_type": "stream",
     "text": [
      "[['France' 44.0 72000.0]\n",
      " ['Spain' nan 48000.0]\n",
      " ['Germany' 30.0 54000.0]\n",
      " ['Spain' 38.0 61000.0]\n",
      " ['Germany' 40.0 64000.0]\n",
      " ['France' 35.0 58000.0]\n",
      " ['Spain' 39.0 52000.0]\n",
      " ['France' 48.0 nan]\n",
      " ['Germany' 50.0 83000.0]\n",
      " ['France' 37.0 67000.0]\n",
      " ['Spain' nan 50000.0]\n",
      " ['France' 55.0 nan]\n",
      " ['Germany' 32.0 70000.0]\n",
      " ['Spain' 43.0 62000.0]\n",
      " ['Germany' 37.0 54000.0]]\n"
     ]
    }
   ],
   "source": [
    "print(X)"
   ]
  },
  {
   "cell_type": "code",
   "execution_count": 4,
   "id": "be3c8600-d742-4878-91bc-c0da8646350d",
   "metadata": {},
   "outputs": [
    {
     "name": "stdout",
     "output_type": "stream",
     "text": [
      "['No' 'Yes' 'No' 'No' 'Yes' 'Yes' 'No' 'Yes' 'No' 'Yes' 'Yes' 'No' 'Yes'\n",
      " 'No' 'Yes']\n"
     ]
    }
   ],
   "source": [
    "print(y)"
   ]
  },
  {
   "cell_type": "code",
   "execution_count": 5,
   "id": "64685f98-0351-46fb-8bfc-17591dbb0701",
   "metadata": {},
   "outputs": [],
   "source": [
    "from sklearn.impute import SimpleImputer\n",
    "imputer = SimpleImputer(missing_values=np.nan, strategy='mean')\n",
    "imputer.fit(X[:, 1:3])\n",
    "X[:, 1:3] = imputer.transform(X[:, 1:3])"
   ]
  },
  {
   "cell_type": "code",
   "execution_count": 6,
   "id": "04e27260-f03a-4314-b0df-7210c7b310a8",
   "metadata": {},
   "outputs": [
    {
     "name": "stdout",
     "output_type": "stream",
     "text": [
      "[['France' 44.0 72000.0]\n",
      " ['Spain' 40.61538461538461 48000.0]\n",
      " ['Germany' 30.0 54000.0]\n",
      " ['Spain' 38.0 61000.0]\n",
      " ['Germany' 40.0 64000.0]\n",
      " ['France' 35.0 58000.0]\n",
      " ['Spain' 39.0 52000.0]\n",
      " ['France' 48.0 61153.846153846156]\n",
      " ['Germany' 50.0 83000.0]\n",
      " ['France' 37.0 67000.0]\n",
      " ['Spain' 40.61538461538461 50000.0]\n",
      " ['France' 55.0 61153.846153846156]\n",
      " ['Germany' 32.0 70000.0]\n",
      " ['Spain' 43.0 62000.0]\n",
      " ['Germany' 37.0 54000.0]]\n"
     ]
    }
   ],
   "source": [
    "print(X)"
   ]
  },
  {
   "cell_type": "code",
   "execution_count": 7,
   "id": "caa811e9-d517-4257-b12c-2ee1453a4d30",
   "metadata": {},
   "outputs": [],
   "source": [
    "from sklearn.compose import ColumnTransformer\n",
    "from sklearn.preprocessing import OneHotEncoder\n",
    "ct = ColumnTransformer(transformers=[('encoder', OneHotEncoder(), [0])], remainder='passthrough')\n",
    "X = np.array(ct.fit_transform(X))"
   ]
  },
  {
   "cell_type": "code",
   "execution_count": 8,
   "id": "fb457b1a-002d-42bb-8bdb-451f2d0692f5",
   "metadata": {},
   "outputs": [
    {
     "name": "stdout",
     "output_type": "stream",
     "text": [
      "[[1.0 0.0 0.0 44.0 72000.0]\n",
      " [0.0 0.0 1.0 40.61538461538461 48000.0]\n",
      " [0.0 1.0 0.0 30.0 54000.0]\n",
      " [0.0 0.0 1.0 38.0 61000.0]\n",
      " [0.0 1.0 0.0 40.0 64000.0]\n",
      " [1.0 0.0 0.0 35.0 58000.0]\n",
      " [0.0 0.0 1.0 39.0 52000.0]\n",
      " [1.0 0.0 0.0 48.0 61153.846153846156]\n",
      " [0.0 1.0 0.0 50.0 83000.0]\n",
      " [1.0 0.0 0.0 37.0 67000.0]\n",
      " [0.0 0.0 1.0 40.61538461538461 50000.0]\n",
      " [1.0 0.0 0.0 55.0 61153.846153846156]\n",
      " [0.0 1.0 0.0 32.0 70000.0]\n",
      " [0.0 0.0 1.0 43.0 62000.0]\n",
      " [0.0 1.0 0.0 37.0 54000.0]]\n"
     ]
    }
   ],
   "source": [
    "print(X)"
   ]
  },
  {
   "cell_type": "code",
   "execution_count": 9,
   "id": "db68ff67-a8ab-40f3-a542-0f7dec3d8e53",
   "metadata": {},
   "outputs": [],
   "source": [
    "from sklearn.preprocessing import LabelEncoder\n",
    "le = LabelEncoder()\n",
    "y = le.fit_transform(y)"
   ]
  },
  {
   "cell_type": "code",
   "execution_count": 10,
   "id": "5ba5a32f-93aa-4e03-b936-dd33d73cd6f2",
   "metadata": {},
   "outputs": [
    {
     "name": "stdout",
     "output_type": "stream",
     "text": [
      "[0 1 0 0 1 1 0 1 0 1 1 0 1 0 1]\n"
     ]
    }
   ],
   "source": [
    "print(y)"
   ]
  },
  {
   "cell_type": "code",
   "execution_count": 11,
   "id": "70a20552-e9de-4701-b450-c55fb3e9ccb1",
   "metadata": {},
   "outputs": [],
   "source": [
    "from sklearn.model_selection import train_test_split\n",
    "X_train, X_test, y_train, y_test = train_test_split(X, y, test_size = 0.2, random_state = 1)"
   ]
  },
  {
   "cell_type": "code",
   "execution_count": 12,
   "id": "dc66afd5-8a14-4668-980c-afd3a6fb5d53",
   "metadata": {},
   "outputs": [
    {
     "name": "stdout",
     "output_type": "stream",
     "text": [
      "[[0.0 1.0 0.0 30.0 54000.0]\n",
      " [0.0 0.0 1.0 40.61538461538461 50000.0]\n",
      " [0.0 1.0 0.0 40.0 64000.0]\n",
      " [0.0 0.0 1.0 40.61538461538461 48000.0]\n",
      " [0.0 0.0 1.0 43.0 62000.0]\n",
      " [1.0 0.0 0.0 44.0 72000.0]\n",
      " [0.0 1.0 0.0 37.0 54000.0]\n",
      " [1.0 0.0 0.0 37.0 67000.0]\n",
      " [0.0 1.0 0.0 50.0 83000.0]\n",
      " [0.0 1.0 0.0 32.0 70000.0]\n",
      " [1.0 0.0 0.0 55.0 61153.846153846156]\n",
      " [1.0 0.0 0.0 35.0 58000.0]]\n"
     ]
    }
   ],
   "source": [
    "print(X_train)"
   ]
  },
  {
   "cell_type": "code",
   "execution_count": 13,
   "id": "7feab0a9-6792-4c1d-8742-e11be0e8696c",
   "metadata": {},
   "outputs": [
    {
     "name": "stdout",
     "output_type": "stream",
     "text": [
      "[[0.0 0.0 1.0 38.0 61000.0]\n",
      " [1.0 0.0 0.0 48.0 61153.846153846156]\n",
      " [0.0 0.0 1.0 39.0 52000.0]]\n"
     ]
    }
   ],
   "source": [
    "print(X_test)"
   ]
  },
  {
   "cell_type": "code",
   "execution_count": 14,
   "id": "6f100d1c-f585-42ff-a39e-213e11a8735c",
   "metadata": {},
   "outputs": [
    {
     "name": "stdout",
     "output_type": "stream",
     "text": [
      "[0 1 1 1 0 0 1 1 0 1 0 1]\n"
     ]
    }
   ],
   "source": [
    "print(y_train)"
   ]
  },
  {
   "cell_type": "code",
   "execution_count": 15,
   "id": "b3e55967-f871-40d9-9cbf-99eca21f4d94",
   "metadata": {},
   "outputs": [
    {
     "name": "stdout",
     "output_type": "stream",
     "text": [
      "[0 1 0]\n"
     ]
    }
   ],
   "source": [
    "print(y_test)"
   ]
  },
  {
   "cell_type": "code",
   "execution_count": 16,
   "id": "5d02533e-91b8-4242-bd63-9442834941da",
   "metadata": {},
   "outputs": [],
   "source": [
    "from sklearn.preprocessing import StandardScaler\n",
    "sc = StandardScaler()\n",
    "X_train[:, 3:] = sc.fit_transform(X_train[:, 3:])\n",
    "X_test[:, 3:] = sc.transform(X_test[:, 3:])"
   ]
  },
  {
   "cell_type": "code",
   "execution_count": 17,
   "id": "aa4238f8-e7b5-404f-83e8-4b6074f2c1bf",
   "metadata": {},
   "outputs": [
    {
     "name": "stdout",
     "output_type": "stream",
     "text": [
      "[[0.0 1.0 0.0 -1.5205383553589473 -0.8212726980812227]\n",
      " [0.0 0.0 1.0 0.038601902519948245 -1.2355606233865444]\n",
      " [0.0 1.0 0.0 -0.05178303996578453 0.21444711518208157]\n",
      " [0.0 0.0 1.0 0.038601902519948245 -1.4427045860392054]\n",
      " [0.0 0.0 1.0 0.3888435546521643 0.007303152529420716]\n",
      " [1.0 0.0 0.0 0.5357190861914806 1.043022965792725]\n",
      " [0.0 1.0 0.0 -0.4924096345837334 -0.8212726980812227]\n",
      " [1.0 0.0 0.0 -0.4924096345837334 0.5251630591610729]\n",
      " [0.0 1.0 0.0 1.4169722754273784 2.1823147603823596]\n",
      " [0.0 1.0 0.0 -1.2267872922803147 0.8358790031400641]\n",
      " [1.0 0.0 0.0 2.1513499331239596 -0.08033467782362788]\n",
      " [1.0 0.0 0.0 -0.786160697662366 -0.406984772775901]]\n"
     ]
    }
   ],
   "source": [
    "print(X_train)"
   ]
  },
  {
   "cell_type": "code",
   "execution_count": 18,
   "id": "24643a8b-98d2-4478-8756-b655df0a29b7",
   "metadata": {},
   "outputs": [
    {
     "name": "stdout",
     "output_type": "stream",
     "text": [
      "[[0.0 0.0 1.0 -0.3455341030444171 -0.09626882879690972]\n",
      " [1.0 0.0 0.0 1.1232212123487457 -0.08033467782362788]\n",
      " [0.0 0.0 1.0 -0.19865857150510083 -1.0284166607338836]]\n"
     ]
    }
   ],
   "source": [
    "print(X_test)"
   ]
  },
  {
   "cell_type": "code",
   "execution_count": null,
   "id": "65a043b6-1dd5-4238-a7df-f9f1567cd394",
   "metadata": {},
   "outputs": [],
   "source": []
  }
 ],
 "metadata": {
  "kernelspec": {
   "display_name": "Python 3 (ipykernel)",
   "language": "python",
   "name": "python3"
  },
  "language_info": {
   "codemirror_mode": {
    "name": "ipython",
    "version": 3
   },
   "file_extension": ".py",
   "mimetype": "text/x-python",
   "name": "python",
   "nbconvert_exporter": "python",
   "pygments_lexer": "ipython3",
   "version": "3.12.2"
  }
 },
 "nbformat": 4,
 "nbformat_minor": 5
}
