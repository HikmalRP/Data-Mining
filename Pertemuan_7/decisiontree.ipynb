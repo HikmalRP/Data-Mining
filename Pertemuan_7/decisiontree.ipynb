{
 "cells": [
  {
   "cell_type": "code",
   "execution_count": 2,
   "id": "1f865d4e-ca52-4365-9c5b-819241fdbf9f",
   "metadata": {},
   "outputs": [],
   "source": [
    "import numpy as np\n",
    "import pandas as pd\n",
    "from sklearn import tree\n",
    "\n",
    "irisDataset = pd.read_csv('Dataset Iris.csv', delimiter=';', header=0)\n",
    "\n",
    "irisDataset[\"Species\"] = pd.factorize(irisDataset.Species)[0]\n",
    "\n",
    "irisDataset = irisDataset.drop(labels=\"Id\", axis=1)\n",
    "\n",
    "irisDataset = irisDataset.to_numpy()"
   ]
  },
  {
   "cell_type": "code",
   "execution_count": 3,
   "id": "c0bd9368-3f34-4d6c-9bb0-d4e2f6d48989",
   "metadata": {},
   "outputs": [],
   "source": [
    "# membagi dataset, 40 baris data untuk training dan 20 baris data untuk testing\n",
    "dataTraining = np.concatenate((irisDataset[0:40,:],\n",
    "                               irisDataset[50:90,:]), axis=0)\n",
    "dataTesting = np.concatenate((irisDataset[40:50,:],\n",
    "                              irisDataset[90:100,:]), axis=0)\n",
    "# memecah dataset ke input dan label\n",
    "inputTraining = dataTraining[:,0:4]\n",
    "inputTesting = dataTesting[:,0:4]\n",
    "labelTraining = dataTraining[:,4]\n",
    "labelTesting = dataTesting[:,4]"
   ]
  },
  {
   "cell_type": "code",
   "execution_count": 4,
   "id": "3426f4b7-9316-4885-ae0f-becf8ff61525",
   "metadata": {},
   "outputs": [
    {
     "name": "stdout",
     "output_type": "stream",
     "text": [
      "label sebenarnya  [0. 0. 0. 0. 0. 0. 0. 0. 0. 0. 1. 1. 1. 1. 1. 1. 1. 1. 1. 1.]\n",
      "hasil prediksi:  [0. 0. 0. 0. 0. 0. 0. 0. 0. 0. 1. 1. 1. 1. 1. 1. 1. 1. 1. 1.]\n",
      "prediksi benar:  20  data\n",
      "prediksi salah:  0  data\n",
      "akurasi:  100.0 %\n"
     ]
    }
   ],
   "source": [
    "# mendefinisikan decision tree classifier\n",
    "model = tree.DecisionTreeClassifier()\n",
    "# mentraining model\n",
    "model = model.fit(inputTraining, labelTraining)\n",
    "# memprediksi input data testing\n",
    "hasilPrediksi = model.predict(inputTesting)\n",
    "print(\"label sebenarnya \", labelTesting)\n",
    "print(\"hasil prediksi: \", hasilPrediksi)\n",
    "# menghitung akurasi\n",
    "prediksiBenar = (hasilPrediksi == labelTesting).sum()\n",
    "prediksiSalah = (hasilPrediksi != labelTesting).sum()\n",
    "print(\"prediksi benar: \", prediksiBenar, \" data\")\n",
    "print(\"prediksi salah: \", prediksiSalah, \" data\")\n",
    "print(\"akurasi: \", prediksiBenar/(prediksiBenar+prediksiSalah) * 100, \"%\")"
   ]
  },
  {
   "cell_type": "code",
   "execution_count": null,
   "id": "08f1941a-58fd-4ad3-bb6b-195f42ad0c91",
   "metadata": {},
   "outputs": [],
   "source": []
  }
 ],
 "metadata": {
  "kernelspec": {
   "display_name": "Python 3 (ipykernel)",
   "language": "python",
   "name": "python3"
  },
  "language_info": {
   "codemirror_mode": {
    "name": "ipython",
    "version": 3
   },
   "file_extension": ".py",
   "mimetype": "text/x-python",
   "name": "python",
   "nbconvert_exporter": "python",
   "pygments_lexer": "ipython3",
   "version": "3.12.2"
  }
 },
 "nbformat": 4,
 "nbformat_minor": 5
}
